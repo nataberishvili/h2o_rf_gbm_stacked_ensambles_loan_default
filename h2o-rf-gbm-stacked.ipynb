{
 "cells": [
  {
   "cell_type": "markdown",
   "metadata": {},
   "source": [
    "Loan default prediction - binary classification\n",
    "\n",
    "* Libraries, data preparation\n",
    "* Random Forest - Hyperparameters, Grid-search\n",
    "* GBM - Hyperparameters, Grid-search\n",
    "* Stacked Ensembles\n",
    "* Comparing Models\n",
    "* Conclusion\n"
   ]
  },
  {
   "cell_type": "markdown",
   "metadata": {},
   "source": [
    "####For this project I specifically focus less on feature engineering and use a small dataset. The main purpose is to build supervised machine learning models with h2o and experiment with hyperparameters."
   ]
  },
  {
   "cell_type": "code",
   "execution_count": 1,
   "metadata": {},
   "outputs": [],
   "source": [
    "import numpy as np\n",
    "import datetime\n",
    "import datetime\n",
    "import pandas as pd\n",
    "import matplotlib.pyplot as plt\n",
    "import warnings\n",
    "warnings.filterwarnings('ignore')"
   ]
  },
  {
   "cell_type": "markdown",
   "metadata": {},
   "source": [
    "####Load the data and create train and test dataset"
   ]
  },
  {
   "cell_type": "code",
   "execution_count": 2,
   "metadata": {},
   "outputs": [],
   "source": [
    "data = pd.read_csv(\"loandefault.csv\")"
   ]
  },
  {
   "cell_type": "markdown",
   "metadata": {},
   "source": [
    "####I will create a month variable from AP005 (date) column and I will drop AP005 column\n"
   ]
  },
  {
   "cell_type": "code",
   "execution_count": 3,
   "metadata": {},
   "outputs": [],
   "source": [
    "data['AP005']= pd.to_datetime(data['AP005']) "
   ]
  },
  {
   "cell_type": "code",
   "execution_count": 4,
   "metadata": {},
   "outputs": [],
   "source": [
    "data['month'] = data['AP005'].dt.month"
   ]
  },
  {
   "cell_type": "markdown",
   "metadata": {},
   "source": [
    "####I will drop the following variables"
   ]
  },
  {
   "cell_type": "code",
   "execution_count": 5,
   "metadata": {},
   "outputs": [],
   "source": [
    "data = data.drop(columns=['id', 'Unnamed: 0', 'Unnamed: 0.1', 'AP005', 'TD025', 'TD026', 'TD027', 'TD028', 'TD029',\n",
    "                          'TD044', 'TD048', 'TD051', 'TD054', 'TD055', 'TD061', 'TD062', 'CR012']) #'TD048', 'TD055', 'TD062', 'TD044', 'TD051', 'TD061', 'TD054',"
   ]
  },
  {
   "cell_type": "markdown",
   "metadata": {},
   "source": [
    "####Binning the age column"
   ]
  },
  {
   "cell_type": "code",
   "execution_count": 6,
   "metadata": {},
   "outputs": [],
   "source": [
    "data['AP001'] = pd.cut(x=data['AP001'],  bins=[19, 24, 29, 34, 39, 44, 49, 54, 59])"
   ]
  },
  {
   "cell_type": "code",
   "execution_count": 7,
   "metadata": {},
   "outputs": [
    {
     "data": {
      "text/plain": [
       "(48000, 73)"
      ]
     },
     "execution_count": 7,
     "metadata": {},
     "output_type": "execute_result"
    }
   ],
   "source": [
    "from sklearn.model_selection import train_test_split\n",
    "train, test = train_test_split(\n",
    "     data, test_size=0.40, random_state=8)\n",
    "train.shape"
   ]
  },
  {
   "cell_type": "markdown",
   "metadata": {},
   "source": [
    "####Assign the index, columns, source and count variable in each source"
   ]
  },
  {
   "cell_type": "code",
   "execution_count": 8,
   "metadata": {},
   "outputs": [
    {
     "data": {
      "text/plain": [
       "CD    36\n",
       "TD    12\n",
       "AP     8\n",
       "CR     7\n",
       "PA     6\n",
       "MB     2\n",
       "lo     1\n",
       "mo     1\n",
       "Name: source, dtype: int64"
      ]
     },
     "execution_count": 8,
     "metadata": {},
     "output_type": "execute_result"
    }
   ],
   "source": [
    "var = pd.DataFrame(train.dtypes)\n",
    "var = pd.DataFrame(train.dtypes).reset_index()\n",
    "var.columns = ['varname','dtype'] \n",
    "var['source'] = var['varname'].str[:2]\n",
    "#var.head()\n",
    "var['source'].value_counts()"
   ]
  },
  {
   "cell_type": "markdown",
   "metadata": {},
   "source": [
    "####Create the list of variables"
   ]
  },
  {
   "cell_type": "code",
   "execution_count": 9,
   "metadata": {},
   "outputs": [
    {
     "data": {
      "text/plain": [
       "['AP001', 'AP002', 'AP003', 'AP004', 'AP006', 'AP007', 'AP008', 'AP009']"
      ]
     },
     "execution_count": 9,
     "metadata": {},
     "output_type": "execute_result"
    }
   ],
   "source": [
    "MB_list = list(var[var['source']=='MB']['varname'])\n",
    "AP_list = list(var[var['source']=='AP']['varname'])\n",
    "TD_list = list(var[var['source']=='TD']['varname'])\n",
    "CR_list = list(var[var['source']=='CR']['varname'])\n",
    "PA_list = list(var[var['source']=='PA']['varname'])\n",
    "CD_list = list(var[var['source']=='CD']['varname'])\n",
    "AP_list"
   ]
  },
  {
   "cell_type": "code",
   "execution_count": 10,
   "metadata": {},
   "outputs": [
    {
     "data": {
      "text/plain": [
       "0    38661\n",
       "1     9339\n",
       "Name: loan_default, dtype: int64"
      ]
     },
     "execution_count": 10,
     "metadata": {},
     "output_type": "execute_result"
    }
   ],
   "source": [
    "train['loan_default'].value_counts(dropna=False)"
   ]
  },
  {
   "cell_type": "markdown",
   "metadata": {},
   "source": [
    "###Initialize H2O"
   ]
  },
  {
   "cell_type": "code",
   "execution_count": 11,
   "metadata": {
    "scrolled": true
   },
   "outputs": [
    {
     "name": "stdout",
     "output_type": "stream",
     "text": [
      "Checking whether there is an H2O instance running at http://localhost:54321 . connected.\n"
     ]
    },
    {
     "data": {
      "text/html": [
       "<div style=\"overflow:auto\"><table style=\"width:50%\"><tr><td>H2O cluster uptime:</td>\n",
       "<td>4 days 23 hours 59 mins</td></tr>\n",
       "<tr><td>H2O cluster timezone:</td>\n",
       "<td>America/New_York</td></tr>\n",
       "<tr><td>H2O data parsing timezone:</td>\n",
       "<td>UTC</td></tr>\n",
       "<tr><td>H2O cluster version:</td>\n",
       "<td>3.26.0.10</td></tr>\n",
       "<tr><td>H2O cluster version age:</td>\n",
       "<td>22 days </td></tr>\n",
       "<tr><td>H2O cluster name:</td>\n",
       "<td>H2O_from_python_natab_bcm2mk</td></tr>\n",
       "<tr><td>H2O cluster total nodes:</td>\n",
       "<td>1</td></tr>\n",
       "<tr><td>H2O cluster free memory:</td>\n",
       "<td>2.528 Gb</td></tr>\n",
       "<tr><td>H2O cluster total cores:</td>\n",
       "<td>8</td></tr>\n",
       "<tr><td>H2O cluster allowed cores:</td>\n",
       "<td>8</td></tr>\n",
       "<tr><td>H2O cluster status:</td>\n",
       "<td>locked, healthy</td></tr>\n",
       "<tr><td>H2O connection url:</td>\n",
       "<td>http://localhost:54321</td></tr>\n",
       "<tr><td>H2O connection proxy:</td>\n",
       "<td>{'http': None, 'https': None}</td></tr>\n",
       "<tr><td>H2O internal security:</td>\n",
       "<td>False</td></tr>\n",
       "<tr><td>H2O API Extensions:</td>\n",
       "<td>Amazon S3, Algos, AutoML, Core V3, TargetEncoder, Core V4</td></tr>\n",
       "<tr><td>Python version:</td>\n",
       "<td>3.7.3 final</td></tr></table></div>"
      ],
      "text/plain": [
       "--------------------------  ---------------------------------------------------------\n",
       "H2O cluster uptime:         4 days 23 hours 59 mins\n",
       "H2O cluster timezone:       America/New_York\n",
       "H2O data parsing timezone:  UTC\n",
       "H2O cluster version:        3.26.0.10\n",
       "H2O cluster version age:    22 days\n",
       "H2O cluster name:           H2O_from_python_natab_bcm2mk\n",
       "H2O cluster total nodes:    1\n",
       "H2O cluster free memory:    2.528 Gb\n",
       "H2O cluster total cores:    8\n",
       "H2O cluster allowed cores:  8\n",
       "H2O cluster status:         locked, healthy\n",
       "H2O connection url:         http://localhost:54321\n",
       "H2O connection proxy:       {'http': None, 'https': None}\n",
       "H2O internal security:      False\n",
       "H2O API Extensions:         Amazon S3, Algos, AutoML, Core V3, TargetEncoder, Core V4\n",
       "Python version:             3.7.3 final\n",
       "--------------------------  ---------------------------------------------------------"
      ]
     },
     "metadata": {},
     "output_type": "display_data"
    }
   ],
   "source": [
    "import h2o\n",
    "h2o.init()"
   ]
  },
  {
   "cell_type": "code",
   "execution_count": 12,
   "metadata": {},
   "outputs": [],
   "source": [
    "from h2o.estimators.gbm import H2OGradientBoostingEstimator\n",
    "from h2o.estimators.random_forest import H2ORandomForestEstimator"
   ]
  },
  {
   "cell_type": "markdown",
   "metadata": {},
   "source": [
    "####I will create train and test sample and convert it into h2o dataframe"
   ]
  },
  {
   "cell_type": "code",
   "execution_count": 13,
   "metadata": {},
   "outputs": [
    {
     "name": "stdout",
     "output_type": "stream",
     "text": [
      "Parse progress: |█████████████████████████████████████████████████████████| 100%\n",
      "Parse progress: |█████████████████████████████████████████████████████████| 100%\n"
     ]
    }
   ],
   "source": [
    "train_smpl = train.sample(frac=0.1, random_state=1)\n",
    "test_smpl = test.sample(frac=0.1, random_state=1)\n",
    "train_hex = h2o.H2OFrame(train_smpl)\n",
    "test_hex = h2o.H2OFrame(test_smpl)\n",
    "#train_hex.describe()"
   ]
  },
  {
   "cell_type": "markdown",
   "metadata": {},
   "source": [
    "####Identify response and predictor variables"
   ]
  },
  {
   "cell_type": "code",
   "execution_count": 14,
   "metadata": {},
   "outputs": [],
   "source": [
    "target='loan_default'\n",
    "predictors = CR_list + TD_list + AP_list + MB_list + CR_list + PA_list \n",
    "#predictors = newlist"
   ]
  },
  {
   "cell_type": "markdown",
   "metadata": {},
   "source": [
    "####I am trying to predit a binary classification problem, so I need response variable to be a factor"
   ]
  },
  {
   "cell_type": "code",
   "execution_count": 15,
   "metadata": {},
   "outputs": [],
   "source": [
    "train_hex['loan_default'] = train_hex['loan_default'].asfactor()\n",
    "test_hex['loan_default'] = test_hex['loan_default'].asfactor()"
   ]
  },
  {
   "cell_type": "markdown",
   "metadata": {},
   "source": [
    "####RANDOM FOREST - is an ensemble learning method, composed of multiple decision trees. By averaging out the impact of several decision trees, random forests tend to improve prediction."
   ]
  },
  {
   "cell_type": "markdown",
   "metadata": {},
   "source": [
    "####I will train base random forest model  WITH default settings FIRST, the goal of our initial model is to provide a baseline AUC that I will try later to beat with Hyperparameter tunning. The default number of trees in an H2O Random Forest is 50, usually increasing the trees in random forest increase the performance."
   ]
  },
  {
   "cell_type": "code",
   "execution_count": 16,
   "metadata": {},
   "outputs": [],
   "source": [
    "nfolds = 5"
   ]
  },
  {
   "cell_type": "code",
   "execution_count": 17,
   "metadata": {},
   "outputs": [
    {
     "name": "stdout",
     "output_type": "stream",
     "text": [
      "drf Model Build progress: |███████████████████████████████████████████████| 100%\n"
     ]
    }
   ],
   "source": [
    "rf_v1 = H2ORandomForestEstimator(\n",
    "        model_id = 'rf_v1',\n",
    "        nfolds=nfolds,\n",
    "        seed=8)\n",
    "rf_v1.train(predictors,target,training_frame=train_hex)"
   ]
  },
  {
   "cell_type": "code",
   "execution_count": 418,
   "metadata": {},
   "outputs": [],
   "source": [
    "#rf_v1.confusion_matrix()\n",
    "#rf_v1.auc() "
   ]
  },
  {
   "cell_type": "code",
   "execution_count": 19,
   "metadata": {},
   "outputs": [
    {
     "data": {
      "image/png": "[encoded data removed]",
      "text/plain": [
       "<Figure size 1008x720 with 1 Axes>"
      ]
     },
     "metadata": {
      "needs_background": "light"
     },
     "output_type": "display_data"
    }
   ],
   "source": [
    "rf_v1.varimp_plot(num_of_features=25)"
   ]
  },
  {
   "cell_type": "code",
   "execution_count": 479,
   "metadata": {},
   "outputs": [
    {
     "data": {
      "image/png": "[encoded data removed]",
      "text/plain": [
       "<Figure size 640x480 with 1 Axes>"
      ]
     },
     "metadata": {},
     "output_type": "display_data"
    }
   ],
   "source": [
    "rf_v1.test = rf_v1.model_performance(test_hex)\n",
    "rf_v1.test.plot()"
   ]
  },
  {
   "cell_type": "markdown",
   "metadata": {},
   "source": [
    "####To get the best performance l want to tune at least some of these hyperparameters to maximize the predictive performance of  model. I would love to do full grid of hyperparameters, but I found that this could take a very substantial time to run in practice. I decided to focus on on most important hyperparameters: n_estimators, max_features, and max_depth.\n",
    "\n",
    "####We can try out hyperparameter sets by hand - (manual search) - individually train a number of models with different combinations of values, and then to compare the model performance to choose the best model or we can use the Grid search - it builds models for every combination of hyperparameter values that we specify.\n",
    "\n",
    "\n",
    "####adjusting the following set of hyperparameters:\n",
    "\n",
    "- ntrees = number of trees in the foreset\n",
    "- max_depth = max number of levels in each decision tree\n",
    "- min_rows = the minimum number of observations for a leaf \n",
    "- mtries = the columns to randomly select at each level.\n",
    "\n",
    "I will first create the Random Hyperparameter Grid\n",
    "On each iteration, the algorithm will choose a difference combination of the features."
   ]
  },
  {
   "cell_type": "markdown",
   "metadata": {},
   "source": [
    "###GRID SEARCH"
   ]
  },
  {
   "cell_type": "code",
   "execution_count": 324,
   "metadata": {},
   "outputs": [],
   "source": [
    "import h2o.grid\n",
    "\n",
    "g = h2o.grid.H2OGridSearch(\n",
    "  h2o.estimators.H2ORandomForestEstimator(\n",
    "    nfolds=5\n",
    "    ),\n",
    "  hyper_params={\n",
    "    \"ntrees\": [200, 800],\n",
    "    \"max_depth\": [40, 60],\n",
    "    \"min_rows\": [80, 100, 200],\n",
    "      \"mtries\": [2, 8, 10]\n",
    "    }\n",
    "  )\n",
    "#g.train(target, predictors, train)"
   ]
  },
  {
   "cell_type": "code",
   "execution_count": 36,
   "metadata": {},
   "outputs": [
    {
     "name": "stdout",
     "output_type": "stream",
     "text": [
      "drf Grid Build progress: |████████████████████████████████████████████████| 100%\n"
     ]
    }
   ],
   "source": [
    "g.train(predictors, target, train_hex)"
   ]
  },
  {
   "cell_type": "markdown",
   "metadata": {},
   "source": [
    "####by default, display the grid search results sorted by increasing logloss (we can change this parameter and sort it by auc)"
   ]
  },
  {
   "cell_type": "code",
   "execution_count": 37,
   "metadata": {},
   "outputs": [
    {
     "name": "stdout",
     "output_type": "stream",
     "text": [
      "     max_depth min_rows mtries ntrees  \\\n",
      "0           40     80.0     10    800   \n",
      "1           60     80.0     10    200   \n",
      "2           40     80.0     10    200   \n",
      "3           60     80.0     10    800   \n",
      "4           60    100.0      8    200   \n",
      "5           40    100.0     10    800   \n",
      "6           40     80.0      8    200   \n",
      "7           40     80.0      8    800   \n",
      "8           60     80.0      8    800   \n",
      "9           40    100.0      8    800   \n",
      "10          40    100.0     10    200   \n",
      "11          60    100.0     10    800   \n",
      "12          60     80.0      8    200   \n",
      "13          60    100.0     10    200   \n",
      "14          60    100.0      8    800   \n",
      "15          60    200.0     10    800   \n",
      "16          40    100.0      8    200   \n",
      "17          60    200.0     10    200   \n",
      "18          40    200.0     10    200   \n",
      "19          40    200.0     10    800   \n",
      "20          60    200.0      8    200   \n",
      "21          40    200.0      8    200   \n",
      "22          60    200.0      8    800   \n",
      "23          40    200.0      8    800   \n",
      "24          60     80.0      2    800   \n",
      "25          60     80.0      2    200   \n",
      "26          40     80.0      2    800   \n",
      "27          40     80.0      2    200   \n",
      "28          40    100.0      2    800   \n",
      "29          40    100.0      2    200   \n",
      "30          60    100.0      2    800   \n",
      "31          60    100.0      2    200   \n",
      "32          40    200.0      2    800   \n",
      "33          40    200.0      2    200   \n",
      "34          60    200.0      2    800   \n",
      "35          60    200.0      2    200   \n",
      "\n",
      "                                                            model_ids  \\\n",
      "0   Grid_DRF_py_1_sid_aa33_model_python_1573941761911_203736_model_31   \n",
      "1   Grid_DRF_py_1_sid_aa33_model_python_1573941761911_203736_model_14   \n",
      "2   Grid_DRF_py_1_sid_aa33_model_python_1573941761911_203736_model_13   \n",
      "3   Grid_DRF_py_1_sid_aa33_model_python_1573941761911_203736_model_32   \n",
      "4   Grid_DRF_py_1_sid_aa33_model_python_1573941761911_203736_model_10   \n",
      "5   Grid_DRF_py_1_sid_aa33_model_python_1573941761911_203736_model_33   \n",
      "6    Grid_DRF_py_1_sid_aa33_model_python_1573941761911_203736_model_7   \n",
      "7   Grid_DRF_py_1_sid_aa33_model_python_1573941761911_203736_model_25   \n",
      "8   Grid_DRF_py_1_sid_aa33_model_python_1573941761911_203736_model_26   \n",
      "9   Grid_DRF_py_1_sid_aa33_model_python_1573941761911_203736_model_27   \n",
      "10  Grid_DRF_py_1_sid_aa33_model_python_1573941761911_203736_model_15   \n",
      "11  Grid_DRF_py_1_sid_aa33_model_python_1573941761911_203736_model_34   \n",
      "12   Grid_DRF_py_1_sid_aa33_model_python_1573941761911_203736_model_8   \n",
      "13  Grid_DRF_py_1_sid_aa33_model_python_1573941761911_203736_model_16   \n",
      "14  Grid_DRF_py_1_sid_aa33_model_python_1573941761911_203736_model_28   \n",
      "15  Grid_DRF_py_1_sid_aa33_model_python_1573941761911_203736_model_36   \n",
      "16   Grid_DRF_py_1_sid_aa33_model_python_1573941761911_203736_model_9   \n",
      "17  Grid_DRF_py_1_sid_aa33_model_python_1573941761911_203736_model_18   \n",
      "18  Grid_DRF_py_1_sid_aa33_model_python_1573941761911_203736_model_17   \n",
      "19  Grid_DRF_py_1_sid_aa33_model_python_1573941761911_203736_model_35   \n",
      "20  Grid_DRF_py_1_sid_aa33_model_python_1573941761911_203736_model_12   \n",
      "21  Grid_DRF_py_1_sid_aa33_model_python_1573941761911_203736_model_11   \n",
      "22  Grid_DRF_py_1_sid_aa33_model_python_1573941761911_203736_model_30   \n",
      "23  Grid_DRF_py_1_sid_aa33_model_python_1573941761911_203736_model_29   \n",
      "24  Grid_DRF_py_1_sid_aa33_model_python_1573941761911_203736_model_20   \n",
      "25   Grid_DRF_py_1_sid_aa33_model_python_1573941761911_203736_model_2   \n",
      "26  Grid_DRF_py_1_sid_aa33_model_python_1573941761911_203736_model_19   \n",
      "27   Grid_DRF_py_1_sid_aa33_model_python_1573941761911_203736_model_1   \n",
      "28  Grid_DRF_py_1_sid_aa33_model_python_1573941761911_203736_model_21   \n",
      "29   Grid_DRF_py_1_sid_aa33_model_python_1573941761911_203736_model_3   \n",
      "30  Grid_DRF_py_1_sid_aa33_model_python_1573941761911_203736_model_22   \n",
      "31   Grid_DRF_py_1_sid_aa33_model_python_1573941761911_203736_model_4   \n",
      "32  Grid_DRF_py_1_sid_aa33_model_python_1573941761911_203736_model_23   \n",
      "33   Grid_DRF_py_1_sid_aa33_model_python_1573941761911_203736_model_5   \n",
      "34  Grid_DRF_py_1_sid_aa33_model_python_1573941761911_203736_model_24   \n",
      "35   Grid_DRF_py_1_sid_aa33_model_python_1573941761911_203736_model_6   \n",
      "\n",
      "                logloss  \n",
      "0   0.49029129124238163  \n",
      "1     0.491244291414509  \n",
      "2     0.491325758441785  \n",
      "3    0.4914339008395886  \n",
      "4    0.4915413829624825  \n",
      "5    0.4916901261254847  \n",
      "6    0.4918717345471083  \n",
      "7    0.4920097004468391  \n",
      "8    0.4920415563529053  \n",
      "9   0.49221308807907765  \n",
      "10  0.49227164738877566  \n",
      "11   0.4923767525273119  \n",
      "12   0.4923924812478064  \n",
      "13   0.4925426647464404  \n",
      "14   0.4928778356189695  \n",
      "15  0.49438450576059534  \n",
      "16   0.4944642612869156  \n",
      "17  0.49483140133688636  \n",
      "18  0.49497103071552945  \n",
      "19   0.4949841023225295  \n",
      "20   0.4951051107062385  \n",
      "21  0.49516549462976733  \n",
      "22  0.49545838946197507  \n",
      "23   0.4960540599575154  \n",
      "24   0.4975616421387109  \n",
      "25  0.49773911060103776  \n",
      "26  0.49780050994871144  \n",
      "27  0.49798837851114985  \n",
      "28   0.4985035785582407  \n",
      "29   0.4987329001155938  \n",
      "30  0.49897820780095437  \n",
      "31  0.49928844343308393  \n",
      "32    0.501759180844455  \n",
      "33   0.5018357308439517  \n",
      "34   0.5021699635435108  \n",
      "35   0.5025184799544471  \n"
     ]
    },
    {
     "data": {
      "text/plain": []
     },
     "execution_count": 37,
     "metadata": {},
     "output_type": "execute_result"
    }
   ],
   "source": [
    "g "
   ]
  },
  {
   "cell_type": "markdown",
   "metadata": {},
   "source": [
    "####It has ordered from best to worst, we want logloss to be low. My results are: ‘max_depth’ = 40; ‘min_rows’ = ‘80’; ‘mtries’: 10 and 'ntrees' : 800, Now I WILL plug these back into the model to see if it improved  performance."
   ]
  },
  {
   "cell_type": "code",
   "execution_count": 480,
   "metadata": {},
   "outputs": [
    {
     "name": "stdout",
     "output_type": "stream",
     "text": [
      "drf Model Build progress: |███████████████████████████████████████████████| 100%\n"
     ]
    }
   ],
   "source": [
    "rf_tunned = H2ORandomForestEstimator(\n",
    "        model_id = 'rf_tunned',\n",
    "        ntrees = 800,\n",
    "        min_rows=80,\n",
    "        max_depth=40,\n",
    "        nfolds = nfolds,\n",
    "        fold_assignment = \"Modulo\",\n",
    "        keep_cross_validation_predictions = True,\n",
    "        seed=8)\n",
    "rf_tunned.train(predictors,target,training_frame=train_hex)"
   ]
  },
  {
   "cell_type": "code",
   "execution_count": 422,
   "metadata": {},
   "outputs": [],
   "source": [
    "#rf_tunned.auc()"
   ]
  },
  {
   "cell_type": "code",
   "execution_count": 481,
   "metadata": {},
   "outputs": [
    {
     "data": {
      "image/png": "[encoded data removed]",
      "text/plain": [
       "<Figure size 640x480 with 1 Axes>"
      ]
     },
     "metadata": {},
     "output_type": "display_data"
    }
   ],
   "source": [
    "rf_tunned.test = rf_tunned.model_performance(test_hex)\n",
    "rf_tunned.test.plot()"
   ]
  },
  {
   "cell_type": "markdown",
   "metadata": {},
   "source": [
    "####The auc for our rf base model on train set was 63.55, after the tunning it improved 0.6565. the Grater the AUC the better is the performance of our model. "
   ]
  },
  {
   "cell_type": "markdown",
   "metadata": {},
   "source": [
    "####GBM h2o’s GBM sequentially builds regression trees on all the features of the dataset in a fully distributed way - each tree is built in parallel. First I will build a base model"
   ]
  },
  {
   "cell_type": "code",
   "execution_count": 498,
   "metadata": {},
   "outputs": [
    {
     "name": "stdout",
     "output_type": "stream",
     "text": [
      "gbm Model Build progress: |███████████████████████████████████████████████| 100%\n"
     ]
    }
   ],
   "source": [
    "gbm_v1 = H2OGradientBoostingEstimator(\n",
    "        model_id = 'gbm_v1',\n",
    "        nfolds = nfolds,\n",
    "        fold_assignment = \"Modulo\",\n",
    "        keep_cross_validation_predictions = True,\n",
    "        seed=8)\n",
    "gbm_v1.train(predictors,target,training_frame=train_hex)"
   ]
  },
  {
   "cell_type": "code",
   "execution_count": 517,
   "metadata": {},
   "outputs": [
    {
     "data": {
      "image/png": "[encoded data removed]",
      "text/plain": [
       "<Figure size 1400x1000 with 1 Axes>"
      ]
     },
     "metadata": {},
     "output_type": "display_data"
    }
   ],
   "source": [
    "gbm_v1.varimp_plot(num_of_features=20)"
   ]
  },
  {
   "cell_type": "code",
   "execution_count": 500,
   "metadata": {},
   "outputs": [
    {
     "data": {
      "image/png": "[encoded data removed]",
      "text/plain": [
       "<Figure size 640x480 with 1 Axes>"
      ]
     },
     "metadata": {},
     "output_type": "display_data"
    }
   ],
   "source": [
    "gbm_v1.test = gbm_v1.model_performance(test_hex)\n",
    "gbm_v1.test.plot()"
   ]
  },
  {
   "cell_type": "code",
   "execution_count": 54,
   "metadata": {},
   "outputs": [],
   "source": [
    "from h2o.estimators.gbm import H2OGradientBoostingEstimator\n",
    "from h2o.grid.grid_search import H2OGridSearch"
   ]
  },
  {
   "cell_type": "code",
   "execution_count": 425,
   "metadata": {},
   "outputs": [],
   "source": [
    "#Hyperparameters\n",
    "gbm_params1 = {'learn_rate': [0.001, 0.01],\n",
    "               'ntrees' : [10, 20, 50, 100, 500],\n",
    "                'max_depth': [3, 5, 9],\n",
    "                #'sample_rate': [0.4, 0.8, 1.0],\n",
    "                #'col_sample_rate': [0.2, 0.5, 1.0],\n",
    "               'min_rows' : [50, 100, 200]\n",
    "                }"
   ]
  },
  {
   "cell_type": "code",
   "execution_count": 426,
   "metadata": {},
   "outputs": [
    {
     "name": "stdout",
     "output_type": "stream",
     "text": [
      "gbm Grid Build progress: |████████████████████████████████████████████████| 100%\n",
      "       col_sample_rate learn_rate max_depth sample_rate            model_ids  \\\n",
      "0                  0.5       0.01         3         0.8   gbm_grid1_model_38   \n",
      "1                  0.2       0.01         3         0.8   gbm_grid1_model_37   \n",
      "2                  0.2       0.01         3         1.0   gbm_grid1_model_55   \n",
      "3                  0.5       0.01         3         1.0   gbm_grid1_model_56   \n",
      "4                  1.0        0.1         3         0.8    gbm_grid1_model_6   \n",
      "5                  1.0       0.01         3         0.8   gbm_grid1_model_39   \n",
      "6                  0.2        0.1         3         1.0   gbm_grid1_model_22   \n",
      "7                  0.5       0.01         5         0.8    gbm_grid1_model_8   \n",
      "8                  0.5       0.01         5         0.8   gbm_grid1_model_44   \n",
      "9                  0.2       0.01         5         0.8   gbm_grid1_model_43   \n",
      "10                 0.2        0.1         3         0.8    gbm_grid1_model_4   \n",
      "11                 1.0       0.01         3         1.0   gbm_grid1_model_57   \n",
      "12                 1.0       0.01         3         1.0  gbm_grid1_model_146   \n",
      "13                 0.2       0.01         5         1.0   gbm_grid1_model_25   \n",
      "14                 0.2       0.01         5         0.8    gbm_grid1_model_7   \n",
      "15                 0.5       0.01         5         1.0   gbm_grid1_model_62   \n",
      "16                 0.2       0.01         5         1.0   gbm_grid1_model_61   \n",
      "17                 0.2       0.01         3         1.0   gbm_grid1_model_19   \n",
      "18                 1.0       0.01         3         1.0   gbm_grid1_model_21   \n",
      "19                 1.0       0.01         3         1.0  gbm_grid1_model_152   \n",
      "20                 0.2       0.01         3         0.8    gbm_grid1_model_1   \n",
      "21                 0.5       0.01         9         0.8   gbm_grid1_model_14   \n",
      "22                 1.0       0.01         5         0.8   gbm_grid1_model_45   \n",
      "23                 1.0       0.01         3         0.8    gbm_grid1_model_3   \n",
      "24                 1.0       0.01         5         0.8    gbm_grid1_model_9   \n",
      "25                 1.0       0.01         3         1.0  gbm_grid1_model_158   \n",
      "26                 0.5       0.01         3         0.8    gbm_grid1_model_2   \n",
      "27                 0.5       0.01         3         1.0   gbm_grid1_model_20   \n",
      "28                 0.2       0.01         9         1.0   gbm_grid1_model_31   \n",
      "29                 0.5       0.01         5         1.0   gbm_grid1_model_26   \n",
      "..  ..             ...        ...       ...         ...                  ...   \n",
      "132                1.0        0.1         9         1.0   gbm_grid1_model_72   \n",
      "133                1.0      0.001         9         1.0  gbm_grid1_model_125   \n",
      "134                1.0       0.01         3         1.0   gbm_grid1_model_74   \n",
      "135                1.0        0.1         9         0.8   gbm_grid1_model_54   \n",
      "136                1.0      0.001         3         1.0  gbm_grid1_model_127   \n",
      "137                1.0      0.001         5         1.0  gbm_grid1_model_123   \n",
      "138                1.0        0.1         9         1.0   gbm_grid1_model_36   \n",
      "139                1.0      0.001         3         1.0  gbm_grid1_model_133   \n",
      "140                0.5        0.1         9         1.0   gbm_grid1_model_71   \n",
      "141                1.0      0.001         9         1.0   gbm_grid1_model_95   \n",
      "142                1.0      0.001         9         1.0   gbm_grid1_model_77   \n",
      "143                1.0       0.01         3         1.0   gbm_grid1_model_80   \n",
      "144                0.2        0.1         5         0.8   gbm_grid1_model_46   \n",
      "145                1.0      0.001         3         1.0  gbm_grid1_model_115   \n",
      "146                1.0      0.001         3         1.0   gbm_grid1_model_97   \n",
      "147                1.0      0.001         3         1.0   gbm_grid1_model_79   \n",
      "148                1.0      0.001         3         1.0  gbm_grid1_model_109   \n",
      "149                1.0      0.001         3         1.0   gbm_grid1_model_91   \n",
      "150                1.0      0.001         3         1.0   gbm_grid1_model_73   \n",
      "151                1.0      0.001         9         1.0  gbm_grid1_model_107   \n",
      "152                1.0      0.001         5         1.0  gbm_grid1_model_105   \n",
      "153                1.0      0.001         5         1.0   gbm_grid1_model_87   \n",
      "154                1.0      0.001         9         1.0   gbm_grid1_model_89   \n",
      "155                1.0      0.001         3         1.0   gbm_grid1_model_85   \n",
      "156                1.0      0.001         3         1.0  gbm_grid1_model_103   \n",
      "157                0.5        0.1         5         1.0   gbm_grid1_model_65   \n",
      "158                1.0        0.1         5         0.8   gbm_grid1_model_48   \n",
      "159                0.2        0.1         5         1.0   gbm_grid1_model_64   \n",
      "160                0.5        0.1         5         0.8   gbm_grid1_model_47   \n",
      "161                1.0        0.1         5         1.0   gbm_grid1_model_66   \n",
      "\n",
      "                    auc  \n",
      "0    0.6735093462039776  \n",
      "1    0.6731300497972357  \n",
      "2    0.6726337800181734  \n",
      "3    0.6692885307450793  \n",
      "4    0.6690602592583952  \n",
      "5    0.6686869534017181  \n",
      "6    0.6682934688500856  \n",
      "7    0.6681222652350723  \n",
      "8    0.6680160117944473  \n",
      "9    0.6678009825763275  \n",
      "10   0.6676474353194004  \n",
      "11    0.666793624289095  \n",
      "12   0.6665908914632139  \n",
      "13   0.6654425976034016  \n",
      "14   0.6653798544737742  \n",
      "15   0.6642492169720481  \n",
      "16   0.6640691851779918  \n",
      "17   0.6636460631681433  \n",
      "18   0.6635517908276481  \n",
      "19   0.6634269351526109  \n",
      "20   0.6633005030170303  \n",
      "21   0.6630898878884319  \n",
      "22   0.6627481112426229  \n",
      "23    0.662637759004585  \n",
      "24   0.6623795347675762  \n",
      "25   0.6622597237662778  \n",
      "26   0.6619936172265519  \n",
      "27    0.661646795907004  \n",
      "28   0.6611833165072444  \n",
      "29   0.6609768001760592  \n",
      "..                  ...  \n",
      "132  0.6210472616565069  \n",
      "133   0.619859240991001  \n",
      "134  0.6188843577909626  \n",
      "135  0.6187563491948386  \n",
      "136  0.6187109471311886  \n",
      "137  0.6183969161909434  \n",
      "138  0.6181651764910637  \n",
      "139  0.6178558749324486  \n",
      "140  0.6171146231849421  \n",
      "141  0.6159959667833458  \n",
      "142  0.6158890827585033  \n",
      "143  0.6149671686327232  \n",
      "144  0.6131990104872461  \n",
      "145  0.6127427828059863  \n",
      "146  0.6127251264479002  \n",
      "147  0.6127251264479002  \n",
      "148  0.6108371573011248  \n",
      "149  0.6093048376529403  \n",
      "150  0.6093048376529403  \n",
      "151  0.6083167121843375  \n",
      "152  0.6083167121843375  \n",
      "153  0.6083167121843375  \n",
      "154  0.6083167121843375  \n",
      "155  0.6081940635540609  \n",
      "156  0.6081940635540609  \n",
      "157   0.607460063525054  \n",
      "158  0.6063669457842608  \n",
      "159  0.6053936390447658  \n",
      "160  0.6009968905892242  \n",
      "161  0.5993485434450455  \n",
      "\n",
      "[162 rows x 7 columns]\n"
     ]
    },
    {
     "data": {
      "text/plain": []
     },
     "execution_count": 426,
     "metadata": {},
     "output_type": "execute_result"
    }
   ],
   "source": [
    "#Grid search\n",
    "gbm_grid1 = H2OGridSearch(model=H2OGradientBoostingEstimator,\n",
    "                          grid_id='gbm_grid1',\n",
    "                          hyper_params=gbm_params1)\n",
    "gbm_grid1.train(x=predictors, y=target,\n",
    "                training_frame=train_hex,\n",
    "                validation_frame=test_hex,\n",
    "                ntrees = 1000,\n",
    "                seed=8)\n",
    "\n",
    "#grid results, sorted by validation AUC\n",
    "gbm_gridperf1 = gbm_grid1.get_grid(sort_by='auc', decreasing=True)\n",
    "gbm_gridperf1\n"
   ]
  },
  {
   "cell_type": "markdown",
   "metadata": {},
   "source": [
    "####Now i will use the hyperparameters from grid search"
   ]
  },
  {
   "cell_type": "code",
   "execution_count": 482,
   "metadata": {},
   "outputs": [
    {
     "name": "stdout",
     "output_type": "stream",
     "text": [
      "gbm Model Build progress: |███████████████████████████████████████████████| 100%\n"
     ]
    }
   ],
   "source": [
    "gbm_tunned = H2OGradientBoostingEstimator(\n",
    "        model_id = 'gbm_tunned',\n",
    "        col_sample_rate = 0.5,\n",
    "        learn_rate = 0.01,\n",
    "        sample_rate = 0.8,\n",
    "        min_rows = 200,\n",
    "        max_depth= 5,\n",
    "        ntrees = 1000,\n",
    "        nfolds = nfolds,\n",
    "        fold_assignment = \"Modulo\",\n",
    "        keep_cross_validation_predictions = True,\n",
    "        seed=8)\n",
    "gbm_tunned.train(predictors,target,training_frame=train_hex)"
   ]
  },
  {
   "cell_type": "code",
   "execution_count": 501,
   "metadata": {},
   "outputs": [
    {
     "data": {
      "image/png": "[encoded data removed]",
      "text/plain": [
       "<Figure size 640x480 with 1 Axes>"
      ]
     },
     "metadata": {},
     "output_type": "display_data"
    }
   ],
   "source": [
    "gbm_tunned.test = gbm_tunned.model_performance(test_hex)\n",
    "gbm_tunned.test.plot()"
   ]
  },
  {
   "cell_type": "markdown",
   "metadata": {},
   "source": [
    "####After tunning GBM model auc slightly increased from 0.6498 to 0.6569"
   ]
  },
  {
   "cell_type": "markdown",
   "metadata": {},
   "source": [
    "####Stacked Ensambles - Ensemble machine learning methods use multiple learning algorithms to obtain better predictive performance than could be obtained from any of the constituent learning algorithms. I will use our best performed (tunned) GBM and RF models"
   ]
  },
  {
   "cell_type": "code",
   "execution_count": 502,
   "metadata": {},
   "outputs": [],
   "source": [
    "from h2o.estimators.stackedensemble import H2OStackedEnsembleEstimator"
   ]
  },
  {
   "cell_type": "code",
   "execution_count": 503,
   "metadata": {},
   "outputs": [],
   "source": [
    "nfolds = 5"
   ]
  },
  {
   "cell_type": "code",
   "execution_count": 504,
   "metadata": {},
   "outputs": [],
   "source": [
    "models = [gbm_tunned.model_id, rf_tunned.model_id]"
   ]
  },
  {
   "cell_type": "code",
   "execution_count": 505,
   "metadata": {},
   "outputs": [],
   "source": [
    "m_SE = H2OStackedEnsembleEstimator(model_id=\"SE_glm_rf\",\n",
    "                                  base_models = models)"
   ]
  },
  {
   "cell_type": "code",
   "execution_count": 506,
   "metadata": {},
   "outputs": [
    {
     "name": "stdout",
     "output_type": "stream",
     "text": [
      "stackedensemble Model Build progress: |███████████████████████████████████| 100%\n"
     ]
    }
   ],
   "source": [
    "m_SE.train(predictors, target, train_hex)"
   ]
  },
  {
   "cell_type": "markdown",
   "metadata": {},
   "source": [
    "####Stacked Ensamble"
   ]
  },
  {
   "cell_type": "code",
   "execution_count": 507,
   "metadata": {},
   "outputs": [
    {
     "data": {
      "image/png": "[encoded data removed]",
      "text/plain": [
       "<Figure size 640x480 with 1 Axes>"
      ]
     },
     "metadata": {},
     "output_type": "display_data"
    }
   ],
   "source": [
    "m_SE.test = m_SE.model_performance(test_hex)\n",
    "m_SE.test.plot()"
   ]
  },
  {
   "cell_type": "code",
   "execution_count": 508,
   "metadata": {},
   "outputs": [],
   "source": [
    "import pandas as pd"
   ]
  },
  {
   "cell_type": "code",
   "execution_count": 509,
   "metadata": {},
   "outputs": [],
   "source": [
    "all_models = [gbm_tunned, rf_tunned, m_SE]"
   ]
  },
  {
   "cell_type": "code",
   "execution_count": 510,
   "metadata": {},
   "outputs": [],
   "source": [
    "names = [\"GBM\", \"RF\", \"SE\"]"
   ]
  },
  {
   "cell_type": "markdown",
   "metadata": {},
   "source": [
    "####Check performance of these models on test set"
   ]
  },
  {
   "cell_type": "code",
   "execution_count": 511,
   "metadata": {},
   "outputs": [],
   "source": [
    "test_perf = list(map(lambda x: x.model_performance(test_hex), all_models))"
   ]
  },
  {
   "cell_type": "markdown",
   "metadata": {},
   "source": [
    "###Logloss for GBM, RF, SE"
   ]
  },
  {
   "cell_type": "code",
   "execution_count": 512,
   "metadata": {},
   "outputs": [
    {
     "data": {
      "text/plain": [
       "GBM    0.466709\n",
       "RF     0.469079\n",
       "SE     0.465213\n",
       "dtype: float64"
      ]
     },
     "execution_count": 512,
     "metadata": {},
     "output_type": "execute_result"
    }
   ],
   "source": [
    "pd.Series(map(lambda p: p.logloss(), test_perf), names)"
   ]
  },
  {
   "cell_type": "markdown",
   "metadata": {},
   "source": [
    "####Ensemble model gives slighltly better results compared to gbm and rf models individually with lower logloss value"
   ]
  },
  {
   "cell_type": "markdown",
   "metadata": {},
   "source": [
    "###AUC for GBM, RF, SE"
   ]
  },
  {
   "cell_type": "code",
   "execution_count": 513,
   "metadata": {},
   "outputs": [
    {
     "data": {
      "text/plain": [
       "GBM    0.656902\n",
       "RF     0.656512\n",
       "SE     0.662925\n",
       "dtype: float64"
      ]
     },
     "execution_count": 513,
     "metadata": {},
     "output_type": "execute_result"
    }
   ],
   "source": [
    "pd.Series(map(lambda p: p.auc(), test_perf), names)"
   ]
  },
  {
   "cell_type": "markdown",
   "metadata": {},
   "source": [
    "####Again Ensemble model gives slighltly better results compared to both models individually, it has higher AUC  values,  AUC =  0.662925"
   ]
  },
  {
   "cell_type": "code",
   "execution_count": 530,
   "metadata": {},
   "outputs": [
    {
     "name": "stdout",
     "output_type": "stream",
     "text": [
      "\n",
      "Confusion Matrix (Act/Pred) for max f1 @ threshold = 0.21197437442158915: \n"
     ]
    },
    {
     "data": {
      "text/html": [
       "<div>\n",
       "<style scoped>\n",
       "    .dataframe tbody tr th:only-of-type {\n",
       "        vertical-align: middle;\n",
       "    }\n",
       "\n",
       "    .dataframe tbody tr th {\n",
       "        vertical-align: top;\n",
       "    }\n",
       "\n",
       "    .dataframe thead th {\n",
       "        text-align: right;\n",
       "    }\n",
       "</style>\n",
       "<table border=\"1\" class=\"dataframe\">\n",
       "  <thead>\n",
       "    <tr style=\"text-align: right;\">\n",
       "      <th></th>\n",
       "      <th></th>\n",
       "      <th>0</th>\n",
       "      <th>1</th>\n",
       "      <th>Error</th>\n",
       "      <th>Rate</th>\n",
       "    </tr>\n",
       "  </thead>\n",
       "  <tbody>\n",
       "    <tr>\n",
       "      <th>0</th>\n",
       "      <td>0</td>\n",
       "      <td>2283.0</td>\n",
       "      <td>1515.0</td>\n",
       "      <td>0.3989</td>\n",
       "      <td>(1515.0/3798.0)</td>\n",
       "    </tr>\n",
       "    <tr>\n",
       "      <th>1</th>\n",
       "      <td>1</td>\n",
       "      <td>389.0</td>\n",
       "      <td>613.0</td>\n",
       "      <td>0.3882</td>\n",
       "      <td>(389.0/1002.0)</td>\n",
       "    </tr>\n",
       "    <tr>\n",
       "      <th>2</th>\n",
       "      <td>Total</td>\n",
       "      <td>2672.0</td>\n",
       "      <td>2128.0</td>\n",
       "      <td>0.3967</td>\n",
       "      <td>(1904.0/4800.0)</td>\n",
       "    </tr>\n",
       "  </tbody>\n",
       "</table>\n",
       "</div>"
      ],
      "text/plain": [
       "               0       1   Error              Rate\n",
       "0      0  2283.0  1515.0  0.3989   (1515.0/3798.0)\n",
       "1      1   389.0   613.0  0.3882    (389.0/1002.0)\n",
       "2  Total  2672.0  2128.0  0.3967   (1904.0/4800.0)"
      ]
     },
     "metadata": {},
     "output_type": "display_data"
    },
    {
     "data": {
      "text/plain": []
     },
     "execution_count": 530,
     "metadata": {},
     "output_type": "execute_result"
    }
   ],
   "source": [
    "rf_tunned.confusion_matrix()"
   ]
  },
  {
   "cell_type": "code",
   "execution_count": 531,
   "metadata": {},
   "outputs": [
    {
     "name": "stdout",
     "output_type": "stream",
     "text": [
      "\n",
      "Confusion Matrix (Act/Pred) for max f1 @ threshold = 0.23927467285579945: \n"
     ]
    },
    {
     "data": {
      "text/html": [
       "<div>\n",
       "<style scoped>\n",
       "    .dataframe tbody tr th:only-of-type {\n",
       "        vertical-align: middle;\n",
       "    }\n",
       "\n",
       "    .dataframe tbody tr th {\n",
       "        vertical-align: top;\n",
       "    }\n",
       "\n",
       "    .dataframe thead th {\n",
       "        text-align: right;\n",
       "    }\n",
       "</style>\n",
       "<table border=\"1\" class=\"dataframe\">\n",
       "  <thead>\n",
       "    <tr style=\"text-align: right;\">\n",
       "      <th></th>\n",
       "      <th></th>\n",
       "      <th>0</th>\n",
       "      <th>1</th>\n",
       "      <th>Error</th>\n",
       "      <th>Rate</th>\n",
       "    </tr>\n",
       "  </thead>\n",
       "  <tbody>\n",
       "    <tr>\n",
       "      <th>0</th>\n",
       "      <td>0</td>\n",
       "      <td>2869.0</td>\n",
       "      <td>929.0</td>\n",
       "      <td>0.2446</td>\n",
       "      <td>(929.0/3798.0)</td>\n",
       "    </tr>\n",
       "    <tr>\n",
       "      <th>1</th>\n",
       "      <td>1</td>\n",
       "      <td>334.0</td>\n",
       "      <td>668.0</td>\n",
       "      <td>0.3333</td>\n",
       "      <td>(334.0/1002.0)</td>\n",
       "    </tr>\n",
       "    <tr>\n",
       "      <th>2</th>\n",
       "      <td>Total</td>\n",
       "      <td>3203.0</td>\n",
       "      <td>1597.0</td>\n",
       "      <td>0.2631</td>\n",
       "      <td>(1263.0/4800.0)</td>\n",
       "    </tr>\n",
       "  </tbody>\n",
       "</table>\n",
       "</div>"
      ],
      "text/plain": [
       "               0       1   Error              Rate\n",
       "0      0  2869.0   929.0  0.2446    (929.0/3798.0)\n",
       "1      1   334.0   668.0  0.3333    (334.0/1002.0)\n",
       "2  Total  3203.0  1597.0  0.2631   (1263.0/4800.0)"
      ]
     },
     "metadata": {},
     "output_type": "display_data"
    },
    {
     "data": {
      "text/plain": []
     },
     "execution_count": 531,
     "metadata": {},
     "output_type": "execute_result"
    }
   ],
   "source": [
    "gbm_tunned.confusion_matrix()"
   ]
  },
  {
   "cell_type": "code",
   "execution_count": 532,
   "metadata": {},
   "outputs": [
    {
     "name": "stdout",
     "output_type": "stream",
     "text": [
      "\n",
      "Confusion Matrix (Act/Pred) for max f1 @ threshold = 0.23138219885026245: \n"
     ]
    },
    {
     "data": {
      "text/html": [
       "<div>\n",
       "<style scoped>\n",
       "    .dataframe tbody tr th:only-of-type {\n",
       "        vertical-align: middle;\n",
       "    }\n",
       "\n",
       "    .dataframe tbody tr th {\n",
       "        vertical-align: top;\n",
       "    }\n",
       "\n",
       "    .dataframe thead th {\n",
       "        text-align: right;\n",
       "    }\n",
       "</style>\n",
       "<table border=\"1\" class=\"dataframe\">\n",
       "  <thead>\n",
       "    <tr style=\"text-align: right;\">\n",
       "      <th></th>\n",
       "      <th></th>\n",
       "      <th>0</th>\n",
       "      <th>1</th>\n",
       "      <th>Error</th>\n",
       "      <th>Rate</th>\n",
       "    </tr>\n",
       "  </thead>\n",
       "  <tbody>\n",
       "    <tr>\n",
       "      <th>0</th>\n",
       "      <td>0</td>\n",
       "      <td>2926.0</td>\n",
       "      <td>872.0</td>\n",
       "      <td>0.2296</td>\n",
       "      <td>(872.0/3798.0)</td>\n",
       "    </tr>\n",
       "    <tr>\n",
       "      <th>1</th>\n",
       "      <td>1</td>\n",
       "      <td>385.0</td>\n",
       "      <td>617.0</td>\n",
       "      <td>0.3842</td>\n",
       "      <td>(385.0/1002.0)</td>\n",
       "    </tr>\n",
       "    <tr>\n",
       "      <th>2</th>\n",
       "      <td>Total</td>\n",
       "      <td>3311.0</td>\n",
       "      <td>1489.0</td>\n",
       "      <td>0.2619</td>\n",
       "      <td>(1257.0/4800.0)</td>\n",
       "    </tr>\n",
       "  </tbody>\n",
       "</table>\n",
       "</div>"
      ],
      "text/plain": [
       "               0       1   Error              Rate\n",
       "0      0  2926.0   872.0  0.2296    (872.0/3798.0)\n",
       "1      1   385.0   617.0  0.3842    (385.0/1002.0)\n",
       "2  Total  3311.0  1489.0  0.2619   (1257.0/4800.0)"
      ]
     },
     "metadata": {},
     "output_type": "display_data"
    },
    {
     "data": {
      "text/plain": []
     },
     "execution_count": 532,
     "metadata": {},
     "output_type": "execute_result"
    }
   ],
   "source": [
    "m_SE.confusion_matrix()"
   ]
  },
  {
   "cell_type": "code",
   "execution_count": 518,
   "metadata": {},
   "outputs": [
    {
     "name": "stdout",
     "output_type": "stream",
     "text": [
      "drf prediction progress: |████████████████████████████████████████████████| 100%\n"
     ]
    }
   ],
   "source": [
    "predictions = rf_tunned.predict(test_hex)\n",
    "predictions.head()\n",
    "test_scores = test_hex['loan_default'].cbind(predictions).as_data_frame()\n",
    "#test_scores.head()"
   ]
  },
  {
   "cell_type": "code",
   "execution_count": 519,
   "metadata": {
    "scrolled": true
   },
   "outputs": [
    {
     "name": "stdout",
     "output_type": "stream",
     "text": [
      "drf prediction progress: |████████████████████████████████████████████████| 100%\n"
     ]
    },
    {
     "data": {
      "text/html": [
       "<div>\n",
       "<style scoped>\n",
       "    .dataframe tbody tr th:only-of-type {\n",
       "        vertical-align: middle;\n",
       "    }\n",
       "\n",
       "    .dataframe tbody tr th {\n",
       "        vertical-align: top;\n",
       "    }\n",
       "\n",
       "    .dataframe thead th {\n",
       "        text-align: right;\n",
       "    }\n",
       "</style>\n",
       "<table border=\"1\" class=\"dataframe\">\n",
       "  <thead>\n",
       "    <tr style=\"text-align: right;\">\n",
       "      <th></th>\n",
       "      <th>count</th>\n",
       "      <th>actual</th>\n",
       "      <th>non_actual</th>\n",
       "      <th>cum_count</th>\n",
       "      <th>cum_actual</th>\n",
       "      <th>cum_non_actual</th>\n",
       "      <th>percent_cum_actual</th>\n",
       "      <th>percent_cum_non_actual</th>\n",
       "      <th>if_random</th>\n",
       "      <th>lift</th>\n",
       "      <th>K_S</th>\n",
       "      <th>gain</th>\n",
       "    </tr>\n",
       "    <tr>\n",
       "      <th>decile</th>\n",
       "      <th></th>\n",
       "      <th></th>\n",
       "      <th></th>\n",
       "      <th></th>\n",
       "      <th></th>\n",
       "      <th></th>\n",
       "      <th></th>\n",
       "      <th></th>\n",
       "      <th></th>\n",
       "      <th></th>\n",
       "      <th></th>\n",
       "      <th></th>\n",
       "    </tr>\n",
       "  </thead>\n",
       "  <tbody>\n",
       "    <tr>\n",
       "      <th>0</th>\n",
       "      <td>320</td>\n",
       "      <td>80</td>\n",
       "      <td>240</td>\n",
       "      <td>320</td>\n",
       "      <td>80</td>\n",
       "      <td>240</td>\n",
       "      <td>0.13</td>\n",
       "      <td>0.09</td>\n",
       "      <td>61.3</td>\n",
       "      <td>1.31</td>\n",
       "      <td>4.0</td>\n",
       "      <td>25.00</td>\n",
       "    </tr>\n",
       "    <tr>\n",
       "      <th>1</th>\n",
       "      <td>320</td>\n",
       "      <td>89</td>\n",
       "      <td>231</td>\n",
       "      <td>640</td>\n",
       "      <td>169</td>\n",
       "      <td>471</td>\n",
       "      <td>0.28</td>\n",
       "      <td>0.18</td>\n",
       "      <td>122.6</td>\n",
       "      <td>1.38</td>\n",
       "      <td>10.0</td>\n",
       "      <td>26.41</td>\n",
       "    </tr>\n",
       "    <tr>\n",
       "      <th>2</th>\n",
       "      <td>320</td>\n",
       "      <td>86</td>\n",
       "      <td>234</td>\n",
       "      <td>960</td>\n",
       "      <td>255</td>\n",
       "      <td>705</td>\n",
       "      <td>0.42</td>\n",
       "      <td>0.27</td>\n",
       "      <td>183.9</td>\n",
       "      <td>1.39</td>\n",
       "      <td>15.0</td>\n",
       "      <td>26.56</td>\n",
       "    </tr>\n",
       "    <tr>\n",
       "      <th>3</th>\n",
       "      <td>320</td>\n",
       "      <td>75</td>\n",
       "      <td>245</td>\n",
       "      <td>1280</td>\n",
       "      <td>330</td>\n",
       "      <td>950</td>\n",
       "      <td>0.54</td>\n",
       "      <td>0.37</td>\n",
       "      <td>245.2</td>\n",
       "      <td>1.35</td>\n",
       "      <td>17.0</td>\n",
       "      <td>25.78</td>\n",
       "    </tr>\n",
       "    <tr>\n",
       "      <th>4</th>\n",
       "      <td>320</td>\n",
       "      <td>81</td>\n",
       "      <td>239</td>\n",
       "      <td>1600</td>\n",
       "      <td>411</td>\n",
       "      <td>1189</td>\n",
       "      <td>0.67</td>\n",
       "      <td>0.46</td>\n",
       "      <td>306.5</td>\n",
       "      <td>1.34</td>\n",
       "      <td>21.0</td>\n",
       "      <td>25.69</td>\n",
       "    </tr>\n",
       "    <tr>\n",
       "      <th>5</th>\n",
       "      <td>320</td>\n",
       "      <td>39</td>\n",
       "      <td>281</td>\n",
       "      <td>1920</td>\n",
       "      <td>450</td>\n",
       "      <td>1470</td>\n",
       "      <td>0.73</td>\n",
       "      <td>0.57</td>\n",
       "      <td>367.8</td>\n",
       "      <td>1.22</td>\n",
       "      <td>16.0</td>\n",
       "      <td>23.44</td>\n",
       "    </tr>\n",
       "    <tr>\n",
       "      <th>6</th>\n",
       "      <td>320</td>\n",
       "      <td>30</td>\n",
       "      <td>290</td>\n",
       "      <td>2240</td>\n",
       "      <td>480</td>\n",
       "      <td>1760</td>\n",
       "      <td>0.78</td>\n",
       "      <td>0.68</td>\n",
       "      <td>429.1</td>\n",
       "      <td>1.12</td>\n",
       "      <td>10.0</td>\n",
       "      <td>21.43</td>\n",
       "    </tr>\n",
       "    <tr>\n",
       "      <th>7</th>\n",
       "      <td>320</td>\n",
       "      <td>45</td>\n",
       "      <td>275</td>\n",
       "      <td>2560</td>\n",
       "      <td>525</td>\n",
       "      <td>2035</td>\n",
       "      <td>0.86</td>\n",
       "      <td>0.79</td>\n",
       "      <td>490.4</td>\n",
       "      <td>1.07</td>\n",
       "      <td>7.0</td>\n",
       "      <td>20.51</td>\n",
       "    </tr>\n",
       "    <tr>\n",
       "      <th>8</th>\n",
       "      <td>320</td>\n",
       "      <td>44</td>\n",
       "      <td>276</td>\n",
       "      <td>2880</td>\n",
       "      <td>569</td>\n",
       "      <td>2311</td>\n",
       "      <td>0.93</td>\n",
       "      <td>0.89</td>\n",
       "      <td>551.7</td>\n",
       "      <td>1.03</td>\n",
       "      <td>4.0</td>\n",
       "      <td>19.76</td>\n",
       "    </tr>\n",
       "    <tr>\n",
       "      <th>9</th>\n",
       "      <td>320</td>\n",
       "      <td>44</td>\n",
       "      <td>276</td>\n",
       "      <td>3200</td>\n",
       "      <td>613</td>\n",
       "      <td>2587</td>\n",
       "      <td>1.00</td>\n",
       "      <td>1.00</td>\n",
       "      <td>613.0</td>\n",
       "      <td>1.00</td>\n",
       "      <td>0.0</td>\n",
       "      <td>19.16</td>\n",
       "    </tr>\n",
       "  </tbody>\n",
       "</table>\n",
       "</div>"
      ],
      "text/plain": [
       "        count  actual  non_actual  cum_count  cum_actual  cum_non_actual  \\\n",
       "decile                                                                     \n",
       "0         320      80         240        320          80             240   \n",
       "1         320      89         231        640         169             471   \n",
       "2         320      86         234        960         255             705   \n",
       "3         320      75         245       1280         330             950   \n",
       "4         320      81         239       1600         411            1189   \n",
       "5         320      39         281       1920         450            1470   \n",
       "6         320      30         290       2240         480            1760   \n",
       "7         320      45         275       2560         525            2035   \n",
       "8         320      44         276       2880         569            2311   \n",
       "9         320      44         276       3200         613            2587   \n",
       "\n",
       "        percent_cum_actual  percent_cum_non_actual  if_random  lift   K_S  \\\n",
       "decile                                                                      \n",
       "0                     0.13                    0.09       61.3  1.31   4.0   \n",
       "1                     0.28                    0.18      122.6  1.38  10.0   \n",
       "2                     0.42                    0.27      183.9  1.39  15.0   \n",
       "3                     0.54                    0.37      245.2  1.35  17.0   \n",
       "4                     0.67                    0.46      306.5  1.34  21.0   \n",
       "5                     0.73                    0.57      367.8  1.22  16.0   \n",
       "6                     0.78                    0.68      429.1  1.12  10.0   \n",
       "7                     0.86                    0.79      490.4  1.07   7.0   \n",
       "8                     0.93                    0.89      551.7  1.03   4.0   \n",
       "9                     1.00                    1.00      613.0  1.00   0.0   \n",
       "\n",
       "         gain  \n",
       "decile         \n",
       "0       25.00  \n",
       "1       26.41  \n",
       "2       26.56  \n",
       "3       25.78  \n",
       "4       25.69  \n",
       "5       23.44  \n",
       "6       21.43  \n",
       "7       20.51  \n",
       "8       19.76  \n",
       "9       19.16  "
      ]
     },
     "execution_count": 519,
     "metadata": {},
     "output_type": "execute_result"
    }
   ],
   "source": [
    "def createGains(model):\n",
    "    predictions = model.predict(test_hex)\n",
    "    test_scores = test_hex['loan_default'].cbind(predictions).as_data_frame()\n",
    "    #sort on prediction (descending), add id, and decile for groups containing 1/10 of datapoints\n",
    "    test_scores = test_scores.sort_values(by='predict',ascending=False)\n",
    "    test_scores['row_id'] = range(0,0+len(test_scores))\n",
    "    test_scores['decile'] = ( test_scores['row_id'] / (len(test_scores)/10) ).astype(int)\n",
    "    #see count by decile\n",
    "    test_scores.loc[test_scores['decile'] == 10]=9\n",
    "    test_scores['decile'].value_counts()\n",
    "    #create gains table\n",
    "    gains = test_scores.groupby('decile')['loan_default'].agg(['count','sum'])\n",
    "    gains.columns = ['count','actual']\n",
    "    gains\n",
    "    #add features to gains table\n",
    "    gains['non_actual'] = gains['count'] - gains['actual']\n",
    "    gains['cum_count'] = gains['count'].cumsum()\n",
    "    gains['cum_actual'] = gains['actual'].cumsum()\n",
    "    gains['cum_non_actual'] = gains['non_actual'].cumsum()\n",
    "    gains['percent_cum_actual'] = (gains['cum_actual'] / np.max(gains['cum_actual'])).round(2)\n",
    "    gains['percent_cum_non_actual'] = (gains['cum_non_actual'] / np.max(gains['cum_non_actual'])).round(2)\n",
    "    gains['if_random'] = np.max(gains['cum_actual']) /10 \n",
    "    gains['if_random'] = gains['if_random'].cumsum()\n",
    "    gains['lift'] = (gains['cum_actual'] / gains['if_random']).round(2)\n",
    "    gains['K_S'] = np.abs( gains['percent_cum_actual'] -  gains['percent_cum_non_actual'] ) * 100\n",
    "    gains['gain']=(gains['cum_actual']/gains['cum_count']*100).round(2)\n",
    "    gains = pd.DataFrame(gains)\n",
    "    return(gains)\n",
    "\n",
    "createGains(rf_tunned)"
   ]
  },
  {
   "cell_type": "code",
   "execution_count": 487,
   "metadata": {},
   "outputs": [
    {
     "name": "stdout",
     "output_type": "stream",
     "text": [
      "gbm prediction progress: |████████████████████████████████████████████████| 100%\n"
     ]
    },
    {
     "data": {
      "text/html": [
       "<div>\n",
       "<style scoped>\n",
       "    .dataframe tbody tr th:only-of-type {\n",
       "        vertical-align: middle;\n",
       "    }\n",
       "\n",
       "    .dataframe tbody tr th {\n",
       "        vertical-align: top;\n",
       "    }\n",
       "\n",
       "    .dataframe thead th {\n",
       "        text-align: right;\n",
       "    }\n",
       "</style>\n",
       "<table border=\"1\" class=\"dataframe\">\n",
       "  <thead>\n",
       "    <tr style=\"text-align: right;\">\n",
       "      <th></th>\n",
       "      <th>count</th>\n",
       "      <th>actual</th>\n",
       "      <th>non_actual</th>\n",
       "      <th>cum_count</th>\n",
       "      <th>cum_actual</th>\n",
       "      <th>cum_non_actual</th>\n",
       "      <th>percent_cum_actual</th>\n",
       "      <th>percent_cum_non_actual</th>\n",
       "      <th>if_random</th>\n",
       "      <th>lift</th>\n",
       "      <th>K_S</th>\n",
       "      <th>gain</th>\n",
       "    </tr>\n",
       "    <tr>\n",
       "      <th>decile</th>\n",
       "      <th></th>\n",
       "      <th></th>\n",
       "      <th></th>\n",
       "      <th></th>\n",
       "      <th></th>\n",
       "      <th></th>\n",
       "      <th></th>\n",
       "      <th></th>\n",
       "      <th></th>\n",
       "      <th></th>\n",
       "      <th></th>\n",
       "      <th></th>\n",
       "    </tr>\n",
       "  </thead>\n",
       "  <tbody>\n",
       "    <tr>\n",
       "      <th>0</th>\n",
       "      <td>320</td>\n",
       "      <td>80</td>\n",
       "      <td>240</td>\n",
       "      <td>320</td>\n",
       "      <td>80</td>\n",
       "      <td>240</td>\n",
       "      <td>0.13</td>\n",
       "      <td>0.09</td>\n",
       "      <td>61.3</td>\n",
       "      <td>1.31</td>\n",
       "      <td>4.0</td>\n",
       "      <td>25.00</td>\n",
       "    </tr>\n",
       "    <tr>\n",
       "      <th>1</th>\n",
       "      <td>320</td>\n",
       "      <td>93</td>\n",
       "      <td>227</td>\n",
       "      <td>640</td>\n",
       "      <td>173</td>\n",
       "      <td>467</td>\n",
       "      <td>0.28</td>\n",
       "      <td>0.18</td>\n",
       "      <td>122.6</td>\n",
       "      <td>1.41</td>\n",
       "      <td>10.0</td>\n",
       "      <td>27.03</td>\n",
       "    </tr>\n",
       "    <tr>\n",
       "      <th>2</th>\n",
       "      <td>320</td>\n",
       "      <td>102</td>\n",
       "      <td>218</td>\n",
       "      <td>960</td>\n",
       "      <td>275</td>\n",
       "      <td>685</td>\n",
       "      <td>0.45</td>\n",
       "      <td>0.26</td>\n",
       "      <td>183.9</td>\n",
       "      <td>1.50</td>\n",
       "      <td>19.0</td>\n",
       "      <td>28.65</td>\n",
       "    </tr>\n",
       "    <tr>\n",
       "      <th>3</th>\n",
       "      <td>320</td>\n",
       "      <td>54</td>\n",
       "      <td>266</td>\n",
       "      <td>1280</td>\n",
       "      <td>329</td>\n",
       "      <td>951</td>\n",
       "      <td>0.54</td>\n",
       "      <td>0.37</td>\n",
       "      <td>245.2</td>\n",
       "      <td>1.34</td>\n",
       "      <td>17.0</td>\n",
       "      <td>25.70</td>\n",
       "    </tr>\n",
       "    <tr>\n",
       "      <th>4</th>\n",
       "      <td>320</td>\n",
       "      <td>45</td>\n",
       "      <td>275</td>\n",
       "      <td>1600</td>\n",
       "      <td>374</td>\n",
       "      <td>1226</td>\n",
       "      <td>0.61</td>\n",
       "      <td>0.47</td>\n",
       "      <td>306.5</td>\n",
       "      <td>1.22</td>\n",
       "      <td>14.0</td>\n",
       "      <td>23.38</td>\n",
       "    </tr>\n",
       "    <tr>\n",
       "      <th>5</th>\n",
       "      <td>320</td>\n",
       "      <td>51</td>\n",
       "      <td>269</td>\n",
       "      <td>1920</td>\n",
       "      <td>425</td>\n",
       "      <td>1495</td>\n",
       "      <td>0.69</td>\n",
       "      <td>0.58</td>\n",
       "      <td>367.8</td>\n",
       "      <td>1.16</td>\n",
       "      <td>11.0</td>\n",
       "      <td>22.14</td>\n",
       "    </tr>\n",
       "    <tr>\n",
       "      <th>6</th>\n",
       "      <td>320</td>\n",
       "      <td>51</td>\n",
       "      <td>269</td>\n",
       "      <td>2240</td>\n",
       "      <td>476</td>\n",
       "      <td>1764</td>\n",
       "      <td>0.78</td>\n",
       "      <td>0.68</td>\n",
       "      <td>429.1</td>\n",
       "      <td>1.11</td>\n",
       "      <td>10.0</td>\n",
       "      <td>21.25</td>\n",
       "    </tr>\n",
       "    <tr>\n",
       "      <th>7</th>\n",
       "      <td>320</td>\n",
       "      <td>44</td>\n",
       "      <td>276</td>\n",
       "      <td>2560</td>\n",
       "      <td>520</td>\n",
       "      <td>2040</td>\n",
       "      <td>0.85</td>\n",
       "      <td>0.79</td>\n",
       "      <td>490.4</td>\n",
       "      <td>1.06</td>\n",
       "      <td>6.0</td>\n",
       "      <td>20.31</td>\n",
       "    </tr>\n",
       "    <tr>\n",
       "      <th>8</th>\n",
       "      <td>320</td>\n",
       "      <td>44</td>\n",
       "      <td>276</td>\n",
       "      <td>2880</td>\n",
       "      <td>564</td>\n",
       "      <td>2316</td>\n",
       "      <td>0.92</td>\n",
       "      <td>0.90</td>\n",
       "      <td>551.7</td>\n",
       "      <td>1.02</td>\n",
       "      <td>2.0</td>\n",
       "      <td>19.58</td>\n",
       "    </tr>\n",
       "    <tr>\n",
       "      <th>9</th>\n",
       "      <td>320</td>\n",
       "      <td>49</td>\n",
       "      <td>271</td>\n",
       "      <td>3200</td>\n",
       "      <td>613</td>\n",
       "      <td>2587</td>\n",
       "      <td>1.00</td>\n",
       "      <td>1.00</td>\n",
       "      <td>613.0</td>\n",
       "      <td>1.00</td>\n",
       "      <td>0.0</td>\n",
       "      <td>19.16</td>\n",
       "    </tr>\n",
       "  </tbody>\n",
       "</table>\n",
       "</div>"
      ],
      "text/plain": [
       "        count  actual  non_actual  cum_count  cum_actual  cum_non_actual  \\\n",
       "decile                                                                     \n",
       "0         320      80         240        320          80             240   \n",
       "1         320      93         227        640         173             467   \n",
       "2         320     102         218        960         275             685   \n",
       "3         320      54         266       1280         329             951   \n",
       "4         320      45         275       1600         374            1226   \n",
       "5         320      51         269       1920         425            1495   \n",
       "6         320      51         269       2240         476            1764   \n",
       "7         320      44         276       2560         520            2040   \n",
       "8         320      44         276       2880         564            2316   \n",
       "9         320      49         271       3200         613            2587   \n",
       "\n",
       "        percent_cum_actual  percent_cum_non_actual  if_random  lift   K_S  \\\n",
       "decile                                                                      \n",
       "0                     0.13                    0.09       61.3  1.31   4.0   \n",
       "1                     0.28                    0.18      122.6  1.41  10.0   \n",
       "2                     0.45                    0.26      183.9  1.50  19.0   \n",
       "3                     0.54                    0.37      245.2  1.34  17.0   \n",
       "4                     0.61                    0.47      306.5  1.22  14.0   \n",
       "5                     0.69                    0.58      367.8  1.16  11.0   \n",
       "6                     0.78                    0.68      429.1  1.11  10.0   \n",
       "7                     0.85                    0.79      490.4  1.06   6.0   \n",
       "8                     0.92                    0.90      551.7  1.02   2.0   \n",
       "9                     1.00                    1.00      613.0  1.00   0.0   \n",
       "\n",
       "         gain  \n",
       "decile         \n",
       "0       25.00  \n",
       "1       27.03  \n",
       "2       28.65  \n",
       "3       25.70  \n",
       "4       23.38  \n",
       "5       22.14  \n",
       "6       21.25  \n",
       "7       20.31  \n",
       "8       19.58  \n",
       "9       19.16  "
      ]
     },
     "execution_count": 487,
     "metadata": {},
     "output_type": "execute_result"
    }
   ],
   "source": [
    "createGains(gbm_tunned)"
   ]
  },
  {
   "cell_type": "code",
   "execution_count": 489,
   "metadata": {},
   "outputs": [
    {
     "name": "stdout",
     "output_type": "stream",
     "text": [
      "stackedensemble prediction progress: |████████████████████████████████████| 100%\n"
     ]
    },
    {
     "data": {
      "text/html": [
       "<div>\n",
       "<style scoped>\n",
       "    .dataframe tbody tr th:only-of-type {\n",
       "        vertical-align: middle;\n",
       "    }\n",
       "\n",
       "    .dataframe tbody tr th {\n",
       "        vertical-align: top;\n",
       "    }\n",
       "\n",
       "    .dataframe thead th {\n",
       "        text-align: right;\n",
       "    }\n",
       "</style>\n",
       "<table border=\"1\" class=\"dataframe\">\n",
       "  <thead>\n",
       "    <tr style=\"text-align: right;\">\n",
       "      <th></th>\n",
       "      <th>count</th>\n",
       "      <th>actual</th>\n",
       "      <th>non_actual</th>\n",
       "      <th>cum_count</th>\n",
       "      <th>cum_actual</th>\n",
       "      <th>cum_non_actual</th>\n",
       "      <th>percent_cum_actual</th>\n",
       "      <th>percent_cum_non_actual</th>\n",
       "      <th>if_random</th>\n",
       "      <th>lift</th>\n",
       "      <th>K_S</th>\n",
       "      <th>gain</th>\n",
       "    </tr>\n",
       "    <tr>\n",
       "      <th>decile</th>\n",
       "      <th></th>\n",
       "      <th></th>\n",
       "      <th></th>\n",
       "      <th></th>\n",
       "      <th></th>\n",
       "      <th></th>\n",
       "      <th></th>\n",
       "      <th></th>\n",
       "      <th></th>\n",
       "      <th></th>\n",
       "      <th></th>\n",
       "      <th></th>\n",
       "    </tr>\n",
       "  </thead>\n",
       "  <tbody>\n",
       "    <tr>\n",
       "      <th>0</th>\n",
       "      <td>320</td>\n",
       "      <td>89</td>\n",
       "      <td>231</td>\n",
       "      <td>320</td>\n",
       "      <td>89</td>\n",
       "      <td>231</td>\n",
       "      <td>0.15</td>\n",
       "      <td>0.09</td>\n",
       "      <td>61.3</td>\n",
       "      <td>1.45</td>\n",
       "      <td>6.0</td>\n",
       "      <td>27.81</td>\n",
       "    </tr>\n",
       "    <tr>\n",
       "      <th>1</th>\n",
       "      <td>320</td>\n",
       "      <td>80</td>\n",
       "      <td>240</td>\n",
       "      <td>640</td>\n",
       "      <td>169</td>\n",
       "      <td>471</td>\n",
       "      <td>0.28</td>\n",
       "      <td>0.18</td>\n",
       "      <td>122.6</td>\n",
       "      <td>1.38</td>\n",
       "      <td>10.0</td>\n",
       "      <td>26.41</td>\n",
       "    </tr>\n",
       "    <tr>\n",
       "      <th>2</th>\n",
       "      <td>320</td>\n",
       "      <td>89</td>\n",
       "      <td>231</td>\n",
       "      <td>960</td>\n",
       "      <td>258</td>\n",
       "      <td>702</td>\n",
       "      <td>0.42</td>\n",
       "      <td>0.27</td>\n",
       "      <td>183.9</td>\n",
       "      <td>1.40</td>\n",
       "      <td>15.0</td>\n",
       "      <td>26.88</td>\n",
       "    </tr>\n",
       "    <tr>\n",
       "      <th>3</th>\n",
       "      <td>320</td>\n",
       "      <td>74</td>\n",
       "      <td>246</td>\n",
       "      <td>1280</td>\n",
       "      <td>332</td>\n",
       "      <td>948</td>\n",
       "      <td>0.54</td>\n",
       "      <td>0.37</td>\n",
       "      <td>245.2</td>\n",
       "      <td>1.35</td>\n",
       "      <td>17.0</td>\n",
       "      <td>25.94</td>\n",
       "    </tr>\n",
       "    <tr>\n",
       "      <th>4</th>\n",
       "      <td>320</td>\n",
       "      <td>75</td>\n",
       "      <td>245</td>\n",
       "      <td>1600</td>\n",
       "      <td>407</td>\n",
       "      <td>1193</td>\n",
       "      <td>0.66</td>\n",
       "      <td>0.46</td>\n",
       "      <td>306.5</td>\n",
       "      <td>1.33</td>\n",
       "      <td>20.0</td>\n",
       "      <td>25.44</td>\n",
       "    </tr>\n",
       "    <tr>\n",
       "      <th>5</th>\n",
       "      <td>320</td>\n",
       "      <td>72</td>\n",
       "      <td>248</td>\n",
       "      <td>1920</td>\n",
       "      <td>479</td>\n",
       "      <td>1441</td>\n",
       "      <td>0.78</td>\n",
       "      <td>0.56</td>\n",
       "      <td>367.8</td>\n",
       "      <td>1.30</td>\n",
       "      <td>22.0</td>\n",
       "      <td>24.95</td>\n",
       "    </tr>\n",
       "    <tr>\n",
       "      <th>6</th>\n",
       "      <td>320</td>\n",
       "      <td>33</td>\n",
       "      <td>287</td>\n",
       "      <td>2240</td>\n",
       "      <td>512</td>\n",
       "      <td>1728</td>\n",
       "      <td>0.84</td>\n",
       "      <td>0.67</td>\n",
       "      <td>429.1</td>\n",
       "      <td>1.19</td>\n",
       "      <td>17.0</td>\n",
       "      <td>22.86</td>\n",
       "    </tr>\n",
       "    <tr>\n",
       "      <th>7</th>\n",
       "      <td>320</td>\n",
       "      <td>37</td>\n",
       "      <td>283</td>\n",
       "      <td>2560</td>\n",
       "      <td>549</td>\n",
       "      <td>2011</td>\n",
       "      <td>0.90</td>\n",
       "      <td>0.78</td>\n",
       "      <td>490.4</td>\n",
       "      <td>1.12</td>\n",
       "      <td>12.0</td>\n",
       "      <td>21.45</td>\n",
       "    </tr>\n",
       "    <tr>\n",
       "      <th>8</th>\n",
       "      <td>320</td>\n",
       "      <td>32</td>\n",
       "      <td>288</td>\n",
       "      <td>2880</td>\n",
       "      <td>581</td>\n",
       "      <td>2299</td>\n",
       "      <td>0.95</td>\n",
       "      <td>0.89</td>\n",
       "      <td>551.7</td>\n",
       "      <td>1.05</td>\n",
       "      <td>6.0</td>\n",
       "      <td>20.17</td>\n",
       "    </tr>\n",
       "    <tr>\n",
       "      <th>9</th>\n",
       "      <td>320</td>\n",
       "      <td>32</td>\n",
       "      <td>288</td>\n",
       "      <td>3200</td>\n",
       "      <td>613</td>\n",
       "      <td>2587</td>\n",
       "      <td>1.00</td>\n",
       "      <td>1.00</td>\n",
       "      <td>613.0</td>\n",
       "      <td>1.00</td>\n",
       "      <td>0.0</td>\n",
       "      <td>19.16</td>\n",
       "    </tr>\n",
       "  </tbody>\n",
       "</table>\n",
       "</div>"
      ],
      "text/plain": [
       "        count  actual  non_actual  cum_count  cum_actual  cum_non_actual  \\\n",
       "decile                                                                     \n",
       "0         320      89         231        320          89             231   \n",
       "1         320      80         240        640         169             471   \n",
       "2         320      89         231        960         258             702   \n",
       "3         320      74         246       1280         332             948   \n",
       "4         320      75         245       1600         407            1193   \n",
       "5         320      72         248       1920         479            1441   \n",
       "6         320      33         287       2240         512            1728   \n",
       "7         320      37         283       2560         549            2011   \n",
       "8         320      32         288       2880         581            2299   \n",
       "9         320      32         288       3200         613            2587   \n",
       "\n",
       "        percent_cum_actual  percent_cum_non_actual  if_random  lift   K_S  \\\n",
       "decile                                                                      \n",
       "0                     0.15                    0.09       61.3  1.45   6.0   \n",
       "1                     0.28                    0.18      122.6  1.38  10.0   \n",
       "2                     0.42                    0.27      183.9  1.40  15.0   \n",
       "3                     0.54                    0.37      245.2  1.35  17.0   \n",
       "4                     0.66                    0.46      306.5  1.33  20.0   \n",
       "5                     0.78                    0.56      367.8  1.30  22.0   \n",
       "6                     0.84                    0.67      429.1  1.19  17.0   \n",
       "7                     0.90                    0.78      490.4  1.12  12.0   \n",
       "8                     0.95                    0.89      551.7  1.05   6.0   \n",
       "9                     1.00                    1.00      613.0  1.00   0.0   \n",
       "\n",
       "         gain  \n",
       "decile         \n",
       "0       27.81  \n",
       "1       26.41  \n",
       "2       26.88  \n",
       "3       25.94  \n",
       "4       25.44  \n",
       "5       24.95  \n",
       "6       22.86  \n",
       "7       21.45  \n",
       "8       20.17  \n",
       "9       19.16  "
      ]
     },
     "execution_count": 489,
     "metadata": {},
     "output_type": "execute_result"
    }
   ],
   "source": [
    "createGains(m_SE)"
   ]
  },
  {
   "cell_type": "markdown",
   "metadata": {},
   "source": [
    "As expected by averaging out some noise from different models, stacked Ensemble model performed better than base or tunned RF and GBM models. with AUC score of 0.6629, to farther improve the model I would work more on feature engineering."
   ]
  },
  {
   "cell_type": "markdown",
   "metadata": {},
   "source": [
    "Thank you!"
   ]
  }
 ],
 "metadata": {
  "kernelspec": {
   "display_name": "Python 3",
   "language": "python",
   "name": "python3"
  },
  "language_info": {
   "codemirror_mode": {
    "name": "ipython",
    "version": 3
   },
   "file_extension": ".py",
   "mimetype": "text/x-python",
   "name": "python",
   "nbconvert_exporter": "python",
   "pygments_lexer": "ipython3",
   "version": "3.7.3"
  }
 },
 "nbformat": 4,
 "nbformat_minor": 2
}
